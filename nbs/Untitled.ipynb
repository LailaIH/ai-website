{
 "cells": [
  {
   "cell_type": "code",
   "execution_count": 1,
   "id": "c1e95acd",
   "metadata": {},
   "outputs": [],
   "source": [
    "from tensorflow.keras.preprocessing.text import Tokenizer\n",
    "list = ['today is friday' , 'today is hit','greece is cool']\n",
    "\n",
    "tokenizer = Tokenizer(num_words= 2 )\n",
    "tokenizer.fit_on_texts(list)\n",
    "seq = tokenizer.texts_to_sequences()"
   ]
  },
  {
   "cell_type": "code",
   "execution_count": null,
   "id": "7dadb896",
   "metadata": {},
   "outputs": [],
   "source": []
  }
 ],
 "metadata": {
  "kernelspec": {
   "display_name": "Python 3 (ipykernel)",
   "language": "python",
   "name": "python3"
  },
  "language_info": {
   "codemirror_mode": {
    "name": "ipython",
    "version": 3
   },
   "file_extension": ".py",
   "mimetype": "text/x-python",
   "name": "python",
   "nbconvert_exporter": "python",
   "pygments_lexer": "ipython3",
   "version": "3.10.6"
  }
 },
 "nbformat": 4,
 "nbformat_minor": 5
}
